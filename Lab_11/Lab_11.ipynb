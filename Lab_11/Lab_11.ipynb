{
  "nbformat": 4,
  "nbformat_minor": 0,
  "metadata": {
    "colab": {
      "provenance": []
    },
    "kernelspec": {
      "name": "python3",
      "display_name": "Python 3"
    },
    "language_info": {
      "name": "python"
    }
  },
  "cells": [
    {
      "cell_type": "markdown",
      "source": [
        "Load the required libraries"
      ],
      "metadata": {
        "id": "RB-s-A3CmM-4"
      }
    },
    {
      "cell_type": "code",
      "execution_count": null,
      "metadata": {
        "id": "IU-b16NSnTun"
      },
      "outputs": [],
      "source": [
        "import pandas as pd\n",
        "import numpy as np\n",
        "import matplotlib.pyplot as plt\n",
        "from sklearn.linear_model import LinearRegression\n",
        "from sklearn.neighbors import KNeighborsRegressor\n",
        "from sklearn.tree import DecisionTreeRegressor\n",
        "from sklearn.ensemble import RandomForestRegressor\n",
        "from xgboost import XGBRegressor\n",
        "from sklearn.metrics import make_scorer\n",
        "from sklearn.neural_network import MLPRegressor"
      ]
    },
    {
      "cell_type": "markdown",
      "source": [
        "load the data"
      ],
      "metadata": {
        "id": "bhOBIDDinp8W"
      }
    },
    {
      "cell_type": "code",
      "source": [
        "# Load the data\n",
        "url = 'https://raw.githubusercontent.com/bpfa/data_for_compx310_2023/main/train.csv.gz'\n",
        "data = pd.read_csv(url, compression='gzip')\n",
        "\n",
        "# Display first few rows to understand the structure\n",
        "print(data.head())"
      ],
      "metadata": {
        "colab": {
          "base_uri": "https://localhost:8080/"
        },
        "id": "Iht5rkC7Xm9o",
        "outputId": "9c2e4ad0-5ec1-46b9-ad72-ab987d76483f"
      },
      "execution_count": null,
      "outputs": [
        {
          "output_type": "stream",
          "name": "stdout",
          "text": [
            "                 datatimeUTC       o23  a23  b23       t23       o22  a22  \\\n",
            "0  2015-07-31 05:45:00+00:00  0.323000  0.0  0.0  1.329000  0.322667  0.0   \n",
            "1  2015-07-31 06:00:00+00:00  0.322667  0.0  0.0  1.328333  0.322000  0.0   \n",
            "2  2015-07-31 06:15:00+00:00  0.322000  0.0  0.0  1.328000  0.322000  0.0   \n",
            "3  2015-07-31 06:30:00+00:00  0.322000  0.0  0.0  1.327333  0.322000  0.0   \n",
            "4  2015-07-31 06:45:00+00:00  0.322000  0.0  0.0  1.327000  0.322000  0.0   \n",
            "\n",
            "   b22       t22       o21  ...        t2        o1   a1        b1        t1  \\\n",
            "0  0.0  1.328333  0.322000  ...  1.322000  0.314000  0.0  0.000000  1.322000   \n",
            "1  0.0  1.328000  0.322000  ...  1.322000  0.313333  0.0  0.166667  1.322000   \n",
            "2  0.0  1.327333  0.322000  ...  1.322000  0.313000  0.0  0.000000  1.322000   \n",
            "3  0.0  1.327000  0.322000  ...  1.322000  0.313000  0.0  0.000000  1.321667   \n",
            "4  0.0  1.326667  0.320667  ...  1.321667  0.313000  0.0  0.000000  1.321000   \n",
            "\n",
            "         o0   a0        b0        t0     delta  \n",
            "0  0.313333  0.0  0.166667  1.322000 -0.003000  \n",
            "1  0.313000  0.0  0.000000  1.322000 -0.003000  \n",
            "2  0.313000  0.0  0.000000  1.321667 -0.003333  \n",
            "3  0.313000  0.0  0.000000  1.321000 -0.003000  \n",
            "4  0.313000  0.0  0.000000  1.321000 -0.004000  \n",
            "\n",
            "[5 rows x 98 columns]\n"
          ]
        }
      ]
    },
    {
      "cell_type": "markdown",
      "source": [
        "preprocess and split the data\n",
        "\n",
        "> You will mainly be working with 'train.csv' which includes 'delta' values.\n",
        "You might want to split it into a 'train' and a 'val' portion,\n",
        "or maybe even a 'train',a 'val', and a 'test' portion.\n",
        "Do NOT shuffle the 'train.csv' before splitting, as this is a time series,\n",
        "where order is important. If you shuffle the data, your estimates might\n",
        "be overly optimistic."
      ],
      "metadata": {
        "id": "mQWjIt1TX9Io"
      }
    },
    {
      "cell_type": "code",
      "source": [
        "# There is a UTC-based data/timestamp that is kind of an id as well.\n",
        "# You might want to remove it for processing - based on the first few rows of the data\n",
        "# that I previously printed, this column is named 'datatimeUTC'\n",
        "data.drop(columns=['datatimeUTC'], inplace=True)\n",
        "\n",
        "# Splitting the data into train and val sets without shuffling\n",
        "train_size = int(0.8 * len(data))\n",
        "train_data = data[:train_size]\n",
        "val_data = data[train_size:]\n",
        "\n",
        "\n",
        "\n",
        "\n",
        "\n",
        "\n",
        "# The feature to predict is called 'delta', the change in river level 3 hours into the future\n",
        "X_train = train_data.drop(columns=['delta'])\n",
        "y_train = train_data['delta']\n",
        "\n",
        "X_val = val_data.drop(columns=['delta'])\n",
        "y_val = val_data['delta']\n"
      ],
      "metadata": {
        "id": "OedXubAwX_PC"
      },
      "execution_count": null,
      "outputs": []
    },
    {
      "cell_type": "markdown",
      "source": [
        "define the custom loss function\n",
        "> To reflect the practical aspects of this problem, where predicting large\n",
        "positive 'delta' values is most important, please use the following\n",
        "custom loss to compare different models:\n",
        "```\n",
        "weighted_mse(y_true, y_pred) = |max(-0.5,y_true)| * (y_true-y_pred) * (y_true-y_pred)\n",
        "```\n",
        "\n",
        "> You may want to use this Python function:\n",
        "```\n",
        "def weighted_mse(y_true, y_pred):\n",
        "    weights = np.abs(np.maximum(y_true, np.full(len(y_true), -0.5)))\n",
        "    deltas = y_true - y_pred\n",
        "    weighted_sse = weights * deltas * deltas\n",
        "    return np.sum(weighted_sse) / np.sum(weights)\n",
        "```\n",
        "\n",
        "\n"
      ],
      "metadata": {
        "id": "IU5M2muHYAUw"
      }
    },
    {
      "cell_type": "code",
      "source": [
        "def weighted_mse(y_true, y_pred):\n",
        "    weights = np.abs(np.maximum(y_true, np.full(len(y_true), -0.5)))\n",
        "    deltas = y_true - y_pred\n",
        "    weighted_sse = weights * deltas * deltas\n",
        "    return np.sum(weighted_sse) / np.sum(weights)\n"
      ],
      "metadata": {
        "id": "aFXfk-k6YFbC"
      },
      "execution_count": null,
      "outputs": []
    },
    {
      "cell_type": "markdown",
      "source": [
        "build and evaluate the models\n",
        "\n",
        "> To find a very good model, please evaluate at least 10 different candidate models.\n",
        "Include:\n",
        "- linear regression\n",
        "- nearest neighbor regression\n",
        "- decision tree regression\n",
        "- random forest regression<br>\n",
        "\n",
        ">To make it 10 (or more), add other algorithms (e.g. a neural network, XGBoost, ...),\n",
        "or explore different hyperparameter settings, or both.\n",
        "\n",
        "> Compile a summary table for all your models, like so:<br>\n",
        "<br>Model      | weighted_mse (as estimated on your val or test portion of 'train.csv')<br>\n",
        "-------------------+--------------<br>\n",
        "knn_k = 100 |  0.531<br>\n",
        "..."
      ],
      "metadata": {
        "id": "D8FTcVzGYI8E"
      }
    },
    {
      "cell_type": "code",
      "source": [
        "# prepare to store the results\n",
        "results = {}\n",
        "\n",
        "# list of models to evaluate\n",
        "models = [\n",
        "    (\"Linear Regression\", LinearRegression()),\n",
        "    (\"KNN k=5\", KNeighborsRegressor(n_neighbors=5)),\n",
        "    (\"KNN k=10\", KNeighborsRegressor(n_neighbors=10)),\n",
        "    (\"KNN k=50\", KNeighborsRegressor(n_neighbors=50)),\n",
        "    (\"Decision Tree\", DecisionTreeRegressor()),\n",
        "    (\"Decision Tree Max Depth=10\", DecisionTreeRegressor(max_depth=10)),\n",
        "    (\"Random Forest n=10\", RandomForestRegressor(n_estimators=10)),\n",
        "    (\"Random Forest n=100\", RandomForestRegressor(n_estimators=100)),\n",
        "    (\"XGBoost\", XGBRegressor()),\n",
        "    (\"Neural Network 1-layer\", MLPRegressor(hidden_layer_sizes=(100,), max_iter=1000)),\n",
        "    (\"Neural Network 2-layers\", MLPRegressor(hidden_layer_sizes=(100, 50), max_iter=1000))\n",
        "]\n",
        "\n",
        "\n",
        "\n",
        "\n",
        "\n",
        "\n",
        "# Evaluate each model\n",
        "for name, model in models:\n",
        "    model.fit(X_train, y_train)\n",
        "    predictions = model.predict(X_val)\n",
        "    score = weighted_mse(y_val, predictions)\n",
        "    results[name] = score\n",
        "    print(f\"\\n{name}: {score}\")\n",
        "\n",
        "\n",
        "print(f\"\\n\" + \"_\"*99)\n",
        "\n",
        "# Define column width based on maximum model name length\n",
        "max_name_length = max([len(name) for name in results.keys()])\n",
        "col1_width = max(max_name_length, len('Model'))\n",
        "col2_width = 65  # you can adjust this value based on your preference\n",
        "\n",
        "# Print header\n",
        "print(\"\\nModel\".ljust(col1_width), \" |\", \"weighted_mse (as estimated on the val or test portion of 'train.csv')\".center(col2_width))\n",
        "print(\"-\"*col1_width, \"+\", \"-\"*col2_width)\n",
        "\n",
        "# Sort and print model results in a summary table\n",
        "sorted_results = sorted(results.items(), key=lambda x: x[1])\n",
        "for name, score in sorted_results:\n",
        "    print(f\"{name.ljust(col1_width)} | {score:.3f}\")\n",
        "\n",
        "\n",
        "print(f\"\\n\\n\")\n"
      ],
      "metadata": {
        "colab": {
          "base_uri": "https://localhost:8080/"
        },
        "id": "QrpJ6j7AYPd-",
        "outputId": "5e1b7c35-9525-4d50-8e13-993006784202"
      },
      "execution_count": null,
      "outputs": [
        {
          "output_type": "stream",
          "name": "stdout",
          "text": [
            "\n",
            "Linear Regression: 0.2145590449523539\n",
            "\n",
            "KNN k=5: 0.43355515583473186\n",
            "\n",
            "KNN k=10: 0.39463164253675936\n",
            "\n",
            "KNN k=50: 0.4371177177565491\n",
            "\n",
            "Decision Tree: 0.47454465891573255\n",
            "\n",
            "Decision Tree Max Depth=10: 0.4337178437646759\n",
            "\n",
            "Random Forest n=10: 0.33083336718182804\n",
            "\n",
            "Random Forest n=100: 0.3201722030011766\n",
            "\n",
            "XGBoost: 0.3402671510028779\n",
            "\n",
            "Neural Network 1-layer: 0.4989258579983343\n",
            "\n",
            "Neural Network 2-layers: 0.5082940789951876\n",
            "\n",
            "___________________________________________________________________________________________________\n",
            "\n",
            "Model                      | weighted_mse (as estimated on the val or test portion of 'train.csv')\n",
            "-------------------------- + -----------------------------------------------------------------\n",
            "Linear Regression          | 0.215\n",
            "Random Forest n=100        | 0.320\n",
            "Random Forest n=10         | 0.331\n",
            "XGBoost                    | 0.340\n",
            "KNN k=10                   | 0.395\n",
            "KNN k=5                    | 0.434\n",
            "Decision Tree Max Depth=10 | 0.434\n",
            "KNN k=50                   | 0.437\n",
            "Decision Tree              | 0.475\n",
            "Neural Network 1-layer     | 0.499\n",
            "Neural Network 2-layers    | 0.508\n",
            "\n",
            "\n",
            "\n"
          ]
        }
      ]
    },
    {
      "cell_type": "markdown",
      "source": [
        "plot the results for the best model\n",
        "\n",
        "> For your best model, train it again on the first 50k examples of train.csv.gz\n",
        "and then use it to predict for the last 5k examples of train.csv.gz<br>\n",
        "Produce a line plot with two lines, one line for the ground truth delta values,\n",
        "and one line showing your predictions."
      ],
      "metadata": {
        "id": "LychuqtAYW_o"
      }
    },
    {
      "cell_type": "code",
      "source": [
        "\n",
        "\n",
        "\n",
        "\n",
        "\n",
        "\n",
        "# Train the best model on the first 50k examples\n",
        "best_model = sorted_results[0][0]\n",
        "model = dict(models)[best_model]\n",
        "X_train_best = X_train.iloc[:50000]\n",
        "y_train_best = y_train.iloc[:50000]\n",
        "model.fit(X_train_best, y_train_best)\n",
        "\n",
        "# Predict on the last 5k examples\n",
        "X_test = X_train.iloc[45000:]\n",
        "y_test = y_train.iloc[45000:]\n",
        "predictions = model.predict(X_test)\n",
        "\n",
        "# Produce a line plot with two lines, one line for the ground truth delta values, and one line showing your predictions.\n",
        "plt.figure(figsize=(12, 6))\n",
        "plt.plot(y_test.values, label=\"Ground Truth\", color='blue')\n",
        "plt.plot(predictions, label=\"Predictions\", color='red')\n",
        "plt.legend()\n",
        "plt.title(f\"Performance of {best_model}\")\n",
        "plt.xlabel(\"Time\")\n",
        "plt.ylabel(\"Delta\")\n",
        "plt.show()\n",
        "\n",
        "\n"
      ],
      "metadata": {
        "colab": {
          "base_uri": "https://localhost:8080/",
          "height": 564
        },
        "id": "EMTA0foZYcr9",
        "outputId": "faf4ca08-994a-47ae-efee-570b0edccd07"
      },
      "execution_count": null,
      "outputs": [
        {
          "output_type": "display_data",
          "data": {
            "text/plain": [
              "<Figure size 1200x600 with 1 Axes>"
            ],
            "image/png": "[encoded data removed]"
          },
          "metadata": {}
        }
      ]
    },
    {
      "cell_type": "markdown",
      "source": [
        "Write a short paragraph commenting on that plot.\n",
        "<br>You might want to comment on points like how well are the\n",
        "spikes predicted, how well is the steady state predicted, are there\n",
        "obvious delays in prediction, etc."
      ],
      "metadata": {
        "id": "5N7-xH0peC3k"
      }
    },
    {
      "cell_type": "markdown",
      "source": [
        "**Answer:**\n",
        ">  The plot indicates that linear regression, which was shown to be the best of the evaluated models, does very well in predicting the steady state, as evidenced by the close alignment of the red prediction line with the blue ground truth line during periods of low variability. Spike events, however, are not predicted well. In some instances, the model appears to underpredict the magnitude of the spikes, and in others it greatly overpredicts. There does not seem to be any obvious delays in prediction."
      ],
      "metadata": {
        "id": "bWYpNx3aeMca"
      }
    }
  ]
}